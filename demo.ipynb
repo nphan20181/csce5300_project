{
 "cells": [
  {
   "cell_type": "code",
   "execution_count": 1,
   "id": "removable-faith",
   "metadata": {},
   "outputs": [],
   "source": [
    "from pathlib import Path\n",
    "import tensorflow as tf\n",
    "\n",
    "# get a list of jpg files in directory 'test_images'\n",
    "img_folder = Path('test_images').rglob('*.jpg')\n",
    "files = [x for x in img_folder]\n",
    "\n",
    "# load saved model\n",
    "model = tf.keras.models.load_model('models/unet_model.h5')"
   ]
  },
  {
   "cell_type": "code",
   "execution_count": 2,
   "id": "working-feelings",
   "metadata": {},
   "outputs": [],
   "source": [
    "def create_mask(input_image):\n",
    "    '''Produce predicted mask for input image.'''\n",
    "    \n",
    "    # get current image's size\n",
    "    w, h, _ = input_image.shape\n",
    "    \n",
    "    # prepare image for model's prediction\n",
    "    image_m = tf.image.resize(input_image, (128, 128))     # resize image\n",
    "    image_m = tf.cast(image_m, tf.float32) / 255.0         # normalize image\n",
    "    image_m = image_m[None,:,:] \n",
    "    \n",
    "    # get predicted mask that has highest score\n",
    "    pred_mask = tf.argmax(model.predict(image_m), axis=-1)\n",
    "    pred_mask = pred_mask[..., tf.newaxis]\n",
    "    \n",
    "    # resize image back to original size\n",
    "    img_mask = tf.image.resize(pred_mask[0], (w, h))\n",
    "    \n",
    "    return img_mask"
   ]
  },
  {
   "cell_type": "code",
   "execution_count": 3,
   "id": "apart-pillow",
   "metadata": {},
   "outputs": [],
   "source": [
    "from skimage import segmentation\n",
    "from skimage.future import graph\n",
    "\n",
    "def _weight_mean_color(graph, src, dst, n):\n",
    "  diff = graph.nodes[dst]['mean color'] - graph.nodes[n]['mean color']\n",
    "  diff = np.linalg.norm(diff)\n",
    "  return {'weight': diff}\n",
    "\n",
    "def merge_mean_color(graph, src, dst):\n",
    "  graph.nodes[dst]['total color'] += graph.nodes[src]['total color']\n",
    "  graph.nodes[dst]['pixel count'] += graph.nodes[src]['pixel count']\n",
    "  graph.nodes[dst]['mean color'] = (graph.nodes[dst]['total color'] /\n",
    "  graph.nodes[dst]['pixel count'])"
   ]
  },
  {
   "cell_type": "code",
   "execution_count": 4,
   "id": "selected-tactics",
   "metadata": {},
   "outputs": [],
   "source": [
    "# RAG Method\n",
    "def segment_image(img, compactness=60, thresh=80, n_segments=200):\n",
    "    labels = segmentation.slic(img, compactness=compactness, n_segments=n_segments, start_label=1)\n",
    "    g = graph.rag_mean_color(img, labels)\n",
    "    labels2 = graph.merge_hierarchical(labels, g, thresh=thresh, rag_copy=False, \n",
    "                                       in_place_merge=True, merge_func=merge_mean_color, \n",
    "                                       weight_func=_weight_mean_color)\n",
    "    \n",
    "    return labels2"
   ]
  },
  {
   "cell_type": "code",
   "execution_count": 5,
   "id": "intense-denver",
   "metadata": {},
   "outputs": [],
   "source": [
    "from skimage.io import imread\n",
    "import cv2\n",
    "import numpy as np\n",
    "\n",
    "methods = ['Input Image', 'Unet Model', 'Edge-Based Method', 'Otsu Method', \n",
    "           'Threshold Method', 'Region Adjacency Graph']\n",
    "images = []       # store a list of input image and the corresponding segmented images\n",
    "names = []        # a list of original image names\n",
    "indexes = []\n",
    "\n",
    "# produce segmented images for all input images\n",
    "for i, img in enumerate(files):\n",
    "    temp = []  # store images for each pet\n",
    "    names.append(str(img).split('\\\\')[-1].split('.')[0])   # get image's name\n",
    "    \n",
    "    # save input image to a list\n",
    "    image = np.array(imread(img))\n",
    "    temp.append(image)\n",
    "    \n",
    "    # get predicted mask for input image\n",
    "    temp.append(create_mask(image))\n",
    "    \n",
    "    # image processing for Otsu & Edge-based methods\n",
    "    image_otsu = cv2.imread(str(img), cv2.IMREAD_COLOR)\n",
    "    image_otsu = cv2.cvtColor(image_otsu, cv2.COLOR_BGR2GRAY)\n",
    "    scale_percent = 50\n",
    "    width = int(image_otsu.shape[1] * scale_percent / 100)\n",
    "    height = int(image_otsu.shape[0] * scale_percent / 100)\n",
    "    dim = (width, height)\n",
    "    image_otsu = cv2.GaussianBlur(image_otsu, (3, 3), 0)            \n",
    "    image_otsu = cv2.resize(image_otsu, dim)\n",
    "    \n",
    "    # edge-based method\n",
    "    temp.append(cv2.Canny(image_otsu,100,200))\n",
    "    \n",
    "    # Otsu method\n",
    "    otsu_threshold, otsout = cv2.threshold(image_otsu, 0, 255, \n",
    "                                           cv2.THRESH_BINARY + cv2.THRESH_OTSU)\n",
    "    otsout = cv2.normalize(otsout, None, alpha=0, beta=1, norm_type=cv2.NORM_MINMAX)\n",
    "    temp.append(otsout)\n",
    "    \n",
    "    # Threshold method\n",
    "    _, th = cv2.threshold(image, 127, 255, cv2.THRESH_BINARY)\n",
    "    temp.append(th)\n",
    "    \n",
    "    # RAG method\n",
    "    temp.append(segment_image(image))\n",
    "    \n",
    "    # add input image and segmented images to the images list\n",
    "    images.append(temp)\n",
    "    indexes.append(i)"
   ]
  },
  {
   "cell_type": "code",
   "execution_count": 6,
   "id": "floral-dylan",
   "metadata": {},
   "outputs": [],
   "source": [
    "import matplotlib.pyplot as plt\n",
    "from skimage import color\n",
    "\n",
    "def show_images(menu_value, checkbox_value):\n",
    "    # get image's index\n",
    "    index = names.index(menu_value)\n",
    "    \n",
    "    # set figure's size\n",
    "    _ = plt.figure(figsize=(12, 10))\n",
    "    \n",
    "    # show input images and all segmented images\n",
    "    for i, title in enumerate(methods):\n",
    "        # set image's position\n",
    "        plt.subplot(2, 3, i+1)\n",
    "        \n",
    "        # plot image\n",
    "        if checkbox_value:\n",
    "            if title == 'Threshold Method':\n",
    "                image = color.rgb2gray(images[index][i])\n",
    "                plt.imshow(image, 'gray')\n",
    "            else:\n",
    "                plt.imshow(images[index][i], 'gray')\n",
    "        else:\n",
    "            plt.imshow(images[index][i])\n",
    "        \n",
    "        plt.axis('off')                 # turn off axis\n",
    "        plt.title(title, fontsize=16, color='blue')   # set title\n",
    "    \n",
    "    # show plot\n",
    "    plt.show()"
   ]
  },
  {
   "cell_type": "code",
   "execution_count": 7,
   "id": "british-virginia",
   "metadata": {},
   "outputs": [],
   "source": [
    "def on_button_clicked(_):\n",
    "    # \"linking function with output\"\n",
    "    with out:\n",
    "        # what happens when we press the button\n",
    "        clear_output()\n",
    "        if len(menu.value) > 0:\n",
    "            show_images(menu.value, checkbox.value)"
   ]
  },
  {
   "cell_type": "code",
   "execution_count": 8,
   "id": "scientific-middle",
   "metadata": {},
   "outputs": [],
   "source": [
    "# some handy functions to use along widgets\n",
    "from IPython.display import display, Markdown, clear_output\n",
    "import ipywidgets as widgets\n",
    "\n",
    "# build menu select box for selecting image\n",
    "menu = widgets.Dropdown(options = [''] + names, values = indexes, description='Select image:')\n",
    "\n",
    "checkbox = widgets.Checkbox(value=False, description='Grayscale', disabled=False,)\n",
    "\n",
    "# build submit button\n",
    "button = widgets.Button(description='Perform Segmenation')\n",
    "\n",
    "# placeholder for displaying images \n",
    "out = widgets.Output()\n",
    "\n",
    "# linking button and function together using a button's method\n",
    "button.on_click(on_button_clicked)"
   ]
  },
  {
   "cell_type": "code",
   "execution_count": 9,
   "id": "advanced-medline",
   "metadata": {},
   "outputs": [
    {
     "data": {
      "application/vnd.jupyter.widget-view+json": {
       "model_id": "989213a4dff04ed4af01d81f73db5acc",
       "version_major": 2,
       "version_minor": 0
      },
      "text/plain": [
       "VBox(children=(Dropdown(description='Select image:', options=('', 'cat', 'dog1', 'dog2'), value=''), Checkbox(…"
      ]
     },
     "metadata": {},
     "output_type": "display_data"
    }
   ],
   "source": [
    "# show image select box and submit button\n",
    "widgets.VBox([menu, checkbox, button, out])"
   ]
  }
 ],
 "metadata": {
  "kernelspec": {
   "display_name": "Python 3",
   "language": "python",
   "name": "python3"
  },
  "language_info": {
   "codemirror_mode": {
    "name": "ipython",
    "version": 3
   },
   "file_extension": ".py",
   "mimetype": "text/x-python",
   "name": "python",
   "nbconvert_exporter": "python",
   "pygments_lexer": "ipython3",
   "version": "3.8.8"
  }
 },
 "nbformat": 4,
 "nbformat_minor": 5
}
