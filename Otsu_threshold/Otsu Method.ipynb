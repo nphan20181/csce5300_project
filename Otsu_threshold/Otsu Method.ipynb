{
 "cells": [
  {
   "cell_type": "code",
   "execution_count": 1,
   "id": "proved-hybrid",
   "metadata": {},
   "outputs": [],
   "source": [
    "import matplotlib\n",
    "import matplotlib.pyplot as plt\n",
    "import numpy as np\n",
    "import cv2 ,os\n",
    "from math import ceil\n",
    "import pickle\n",
    "import time\n",
    "\n",
    "def get_images_names(path):\n",
    "    files_name = os.listdir( path )\n",
    "    files_name.sort()\n",
    "    return files_name\n",
    "\n",
    "def read_imges(path,images_name):\n",
    "    images=[]\n",
    "    for image in images_name:\n",
    "        img = cv2.imread(path+image,0)\n",
    "        if img is not None:\n",
    "            scale_percent = 50\n",
    "            width = int(img.shape[1] * scale_percent / 100)\n",
    "            height = int(img.shape[0] * scale_percent / 100)\n",
    "            dim = (width, height)\n",
    "            img = cv2.GaussianBlur(img, (3, 3), 0)            \n",
    "            img = cv2.resize(img, dim)\n",
    "            images.append(img)\n",
    "        else:\n",
    "            print('Can not read image files!',path+image)\n",
    "    return images\n",
    "\n",
    "def segment_images(images):\n",
    "    seg_images=[]\n",
    "    for image in images:\n",
    "        otsu_threshold, otsout = cv2.threshold(image, 0, 255, cv2.THRESH_BINARY + cv2.THRESH_OTSU)\n",
    "        otsout = cv2.normalize(otsout, None, alpha=0, beta=1, norm_type=cv2.NORM_MINMAX)\n",
    "        seg_images.append(np.array(otsout))\n",
    "    return seg_images\n",
    "        \n",
    "def get_foreground(segmented_image):\n",
    "    foreground_pixels = []\n",
    "    foreground_value = 0\n",
    "    for img in segmented_image:\n",
    "        for y in range(img.shape[0]):\n",
    "            for x in range(img.shape[1]):\n",
    "                if img[y, x] == foreground_value:\n",
    "                    foreground_pixels.append((x, y)) # add it to my list of (x, y) coordinate pairs\n",
    "    return foreground_pixels\n",
    "\n",
    "def save_fg(images):\n",
    "    with open('Otsu_fg_pixels.pkl', 'wb') as f:\n",
    "        pickle.dump(images, f)\n",
    "    \n",
    "def load_fg():\n",
    "    with open('Otsu_fg_pixels.pkl', 'rb') as f:\n",
    "        loaded_fg = pickle.load(f)\n",
    "    return loaded_fg"
   ]
  },
  {
   "cell_type": "code",
   "execution_count": 2,
   "id": "familiar-craft",
   "metadata": {},
   "outputs": [
    {
     "name": "stdout",
     "output_type": "stream",
     "text": [
      "Can not read image files! test/Abyssinian_34.jpg\n",
      "--- execution time 5.583715915679932 seconds ---\n"
     ]
    }
   ],
   "source": [
    "path='test/'\n",
    "#get all images name\n",
    "start_time = time.time()\n",
    "\n",
    "images_name = get_images_names(path)\n",
    "images = read_imges(path,images_name)\n",
    "\n",
    "print(\"--- execution time %s seconds ---\" % (time.time() - start_time))"
   ]
  },
  {
   "cell_type": "code",
   "execution_count": 3,
   "id": "finnish-pickup",
   "metadata": {},
   "outputs": [
    {
     "name": "stdout",
     "output_type": "stream",
     "text": [
      "--- execution time: 2.294624090194702 seconds ---\n"
     ]
    }
   ],
   "source": [
    "seg_img=[]\n",
    "start_time = time.time()\n",
    "\n",
    "for img in images:\n",
    "    seg_img.append(segment_images(img))\n",
    "    \n",
    "print(\"--- execution time: %s seconds ---\" % (time.time() - start_time))"
   ]
  },
  {
   "cell_type": "code",
   "execution_count": 4,
   "id": "alternative-loading",
   "metadata": {},
   "outputs": [
    {
     "name": "stdout",
     "output_type": "stream",
     "text": [
      "--- execution time 147.1975600719452 seconds ---\n"
     ]
    }
   ],
   "source": [
    "fg=[]\n",
    "start_time = time.time()\n",
    "\n",
    "for img in seg_img:\n",
    "    fg.append(get_foreground(img))\n",
    "print(\"--- execution time %s seconds ---\" % (time.time() - start_time))"
   ]
  },
  {
   "cell_type": "code",
   "execution_count": 13,
   "id": "consolidated-secret",
   "metadata": {},
   "outputs": [],
   "source": [
    "fg=[]\n",
    "for i in [0,1]:\n",
    "    fg.append(get_foreground(seg_img[i]))"
   ]
  },
  {
   "cell_type": "code",
   "execution_count": 11,
   "id": "opposite-share",
   "metadata": {},
   "outputs": [
    {
     "name": "stdout",
     "output_type": "stream",
     "text": [
      "<class 'list'>\n",
      "1108\n"
     ]
    }
   ],
   "source": [
    "print(type(fg))\n",
    "print(len(fg))"
   ]
  },
  {
   "cell_type": "code",
   "execution_count": 12,
   "id": "underlying-smoke",
   "metadata": {},
   "outputs": [
    {
     "data": {
      "text/plain": [
       "<matplotlib.image.AxesImage at 0x7ffb65c7b4a8>"
      ]
     },
     "execution_count": 12,
     "metadata": {},
     "output_type": "execute_result"
    },
    {
     "data": {
      "image/png": "[encoded data removed]",
      "text/plain": [
       "<Figure size 432x288 with 1 Axes>"
      ]
     },
     "metadata": {
      "needs_background": "light"
     },
     "output_type": "display_data"
    }
   ],
   "source": [
    "plt.imshow(seg_img[990],'gray')"
   ]
  },
  {
   "cell_type": "code",
   "execution_count": 13,
   "id": "going-toolbox",
   "metadata": {},
   "outputs": [
    {
     "name": "stdout",
     "output_type": "stream",
     "text": [
      "--- execution time 21.24526810646057 seconds ---\n"
     ]
    }
   ],
   "source": [
    "start_time = time.time()\n",
    "save_fg(fg)\n",
    "print(\"--- execution time %s seconds ---\" % (time.time() - start_time))"
   ]
  },
  {
   "cell_type": "code",
   "execution_count": null,
   "id": "noted-immunology",
   "metadata": {},
   "outputs": [],
   "source": []
  }
 ],
 "metadata": {
  "kernelspec": {
   "display_name": "Python 3",
   "language": "python",
   "name": "python3"
  },
  "language_info": {
   "codemirror_mode": {
    "name": "ipython",
    "version": 3
   },
   "file_extension": ".py",
   "mimetype": "text/x-python",
   "name": "python",
   "nbconvert_exporter": "python",
   "pygments_lexer": "ipython3",
   "version": "3.7.3"
  }
 },
 "nbformat": 4,
 "nbformat_minor": 5
}
