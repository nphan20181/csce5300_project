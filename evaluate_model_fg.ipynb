{
 "cells": [
  {
   "cell_type": "markdown",
   "id": "sacred-blackberry",
   "metadata": {},
   "source": [
    "# Evaluate Model Results based on Foreground Pixels"
   ]
  },
  {
   "cell_type": "code",
   "execution_count": 2,
   "id": "advisory-reproduction",
   "metadata": {},
   "outputs": [],
   "source": [
    "import pickle\n",
    "\n",
    "# load foreground pixels for predicted masks\n",
    "with open('data/model_fg_pixels.pkl', 'rb') as f:\n",
    "    fg_pixels = pickle.load(f)"
   ]
  },
  {
   "cell_type": "code",
   "execution_count": 4,
   "id": "severe-turning",
   "metadata": {},
   "outputs": [],
   "source": [
    "import numpy as np\n",
    "\n",
    "# load test target array\n",
    "targets = np.load('data/test_targets.npy', allow_pickle=True)"
   ]
  },
  {
   "cell_type": "code",
   "execution_count": 10,
   "id": "urban-listing",
   "metadata": {},
   "outputs": [],
   "source": [
    "from tqdm import tqdm\n",
    "\n",
    "def iou(target_arr, prediction_arr):\n",
    "    target = set([tuple(tup) for tup in target_arr])\n",
    "    prediction = set([tuple(tup) for tup in prediction_arr])\n",
    "    return len(target.intersection(prediction)) / len(target.union(prediction))\n",
    "  \n",
    "def score_results(truth, preds):\n",
    "    total = 0.0\n",
    "    for i, target in tqdm(list(enumerate(truth))):\n",
    "        total += iou(target, preds[i])\n",
    "    return total / len(truth)"
   ]
  },
  {
   "cell_type": "code",
   "execution_count": 11,
   "id": "elect-acoustic",
   "metadata": {},
   "outputs": [
    {
     "name": "stderr",
     "output_type": "stream",
     "text": [
      "100%|██████████| 1832/1832 [06:55<00:00,  4.41it/s] \n"
     ]
    },
    {
     "data": {
      "text/plain": [
       "0.7969773590087728"
      ]
     },
     "execution_count": 11,
     "metadata": {},
     "output_type": "execute_result"
    }
   ],
   "source": [
    "score_results(targets, fg_pixels)"
   ]
  }
 ],
 "metadata": {
  "kernelspec": {
   "display_name": "Python 3",
   "language": "python",
   "name": "python3"
  },
  "language_info": {
   "codemirror_mode": {
    "name": "ipython",
    "version": 3
   },
   "file_extension": ".py",
   "mimetype": "text/x-python",
   "name": "python",
   "nbconvert_exporter": "python",
   "pygments_lexer": "ipython3",
   "version": "3.8.8"
  }
 },
 "nbformat": 4,
 "nbformat_minor": 5
}
