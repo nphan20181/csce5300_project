{
  "nbformat": 4,
  "nbformat_minor": 0,
  "metadata": {
    "colab": {
      "name": "image_segmentation.ipynb",
      "provenance": [],
      "machine_shape": "hm"
    },
    "kernelspec": {
      "name": "python3",
      "display_name": "Python 3.8.5 64-bit ('env')",
      "metadata": {
        "interpreter": {
          "hash": "9202d3760f1265e14f660f53c1781099fa3eb3b45c302afe0679f1048eb64bc7"
        }
      }
    },
    "language_info": {
      "name": "python",
      "version": "3.8.5-final"
    }
  },
  "cells": [
    {
      "cell_type": "code",
      "metadata": {
        "id": "GbjG8M3wOp8F"
      },
      "source": [
        "from skimage import segmentation\n",
        "from skimage.future import graph\n",
        "from matplotlib import image\n",
        "from skimage.color import label2rgb\n",
        "import cv2\n",
        "import os\n",
        "import numpy as np\n",
        "def _weight_mean_color(graph, src, dst, n):\n",
        "  diff = graph.nodes[dst]['mean color'] - graph.nodes[n]['mean color']\n",
        "  diff = np.linalg.norm(diff)\n",
        "  return {'weight': diff}\n",
        "def merge_mean_color(graph, src, dst):\n",
        "  graph.nodes[dst]['total color'] += graph.nodes[src]['total color']\n",
        "  graph.nodes[dst]['pixel count'] += graph.nodes[src]['pixel count']\n",
        "  graph.nodes[dst]['mean color'] = (graph.nodes[dst]['total color'] /\n",
        "  graph.nodes[dst]['pixel count'])"
      ],
      "execution_count": 1,
      "outputs": []
    },
    {
      "cell_type": "code",
      "metadata": {
        "id": "eiNdRNBOUlig"
      },
      "source": [
        "def segment_image(img, compactness, thresh, n_segments=200):\n",
        "  labels = segmentation.slic(img, compactness=compactness, n_segments=n_segments)\n",
        "  g = graph.rag_mean_color(img, labels)\n",
        "  labels2 = graph.merge_hierarchical(labels, g, thresh=thresh,\n",
        "    rag_copy=False,\n",
        "    in_place_merge=True,\n",
        "    merge_func=merge_mean_color,\n",
        "    weight_func=_weight_mean_color)\n",
        "  \n",
        "  h, w = img.shape[0], img.shape[1]\n",
        "  fground_label = labels2[h // 2, w // 2]\n",
        "\n",
        "  return get_foreground(labels2, foreground_value=fground_label)\n",
        "  \n",
        "def get_foreground(segmented_image, foreground_value = 255):\n",
        "  foreground_pixels = []\n",
        "\n",
        "  indices = np.where(segmented_image == foreground_value)\n",
        "  return np.stack((indices[1], indices[0]), 1)\n",
        "\n",
        "def get_prediction(dataset): # dataset is a list of images\n",
        "  prediction = []\n",
        "\n",
        "  # for each image in the dataset\n",
        "  for image in dataset:\n",
        "    foreground_pixels = segment_image(image)\n",
        "    # add those to your list of predictions\n",
        "    prediction.append(foreground_pixels)\n",
        "  \n",
        "  return prediction"
      ],
      "execution_count": 2,
      "outputs": []
    },
    {
      "cell_type": "code",
      "execution_count": 8,
      "metadata": {},
      "outputs": [
        {
          "output_type": "stream",
          "name": "stderr",
          "text": [
            "100%|██████████| 1832/1832 [00:21<00:00, 83.97it/s]\n"
          ]
        }
      ],
      "source": [
        "from tqdm import tqdm\n",
        "\n",
        "comp = 60\n",
        "thresh = 80\n",
        "image_path = './data/test/masks/'\n",
        "filenames = [image_path + name for name in os.listdir(image_path)]\n",
        "target_results = []\n",
        "\n",
        "for path in tqdm(filenames):\n",
        "  img = cv2.imread(path, 0)\n",
        "  fg = get_foreground(img, foreground_value=1)\n",
        "  target_results.append(fg)"
      ]
    },
    {
      "cell_type": "code",
      "execution_count": 9,
      "metadata": {},
      "outputs": [
        {
          "output_type": "stream",
          "name": "stderr",
          "text": [
            "c:\\VSCodeDrive\\image_segmentation\\env\\lib\\site-packages\\numpy\\core\\_asarray.py:171: VisibleDeprecationWarning: Creating an ndarray from ragged nested sequences (which is a list-or-tuple of lists-or-tuples-or ndarrays with different lengths or shapes) is deprecated. If you meant to do this, you must specify 'dtype=object' when creating the ndarray.\n  return array(a, dtype, copy=False, order=order, subok=True)\n"
          ]
        }
      ],
      "source": [
        "np.save('test_targets.npy', target_results)"
      ]
    }
  ]
}