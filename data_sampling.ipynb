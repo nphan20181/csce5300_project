{
 "cells": [
  {
   "cell_type": "markdown",
   "id": "reliable-coast",
   "metadata": {},
   "source": [
    "# Data Sampling for Test/Train Set\n",
    "\n",
    " - Dataset\n",
    "   - Name: oxford_iiit_pet\n",
    "   - Url: https://www.tensorflow.org/datasets/catalog/oxford_iiit_pet\n",
    "   - Description: The Oxford-IIIT pet dataset is a 37 category pet image dataset with roughly 200 images for each class. The images have large variations in scale, pose and lighting. All images have an associated ground truth annotation of breed."
   ]
  },
  {
   "cell_type": "markdown",
   "id": "divine-safety",
   "metadata": {},
   "source": [
    "## Extract Files and Store Data Info"
   ]
  },
  {
   "cell_type": "code",
   "execution_count": 1,
   "id": "interstate-integrity",
   "metadata": {},
   "outputs": [
    {
     "name": "stdout",
     "output_type": "stream",
     "text": [
      "       label              filename\n",
      "0      boxer          boxer_16.jpg\n",
      "1  chihuahua     chihuahua_165.jpg\n",
      "2        pug           pug_183.jpg\n",
      "3    english  english_setter_1.jpg\n",
      "4  chihuahua     chihuahua_170.jpg\n"
     ]
    }
   ],
   "source": [
    "import tarfile\n",
    "import pandas as pd\n",
    "import numpy as np\n",
    "\n",
    "# open tar file for reading\n",
    "tar = tarfile.open('data/images.tar.gz', 'r')\n",
    "tar_names = tar.getnames()\n",
    "\n",
    "# extract all images from tar file into 'data' directory\n",
    "tar.extractall('data')\n",
    "\n",
    "filenames = []\n",
    "labels = []\n",
    "\n",
    "for i, name in enumerate(tar_names):\n",
    "    if '.jpg' in name:\n",
    "        filename = name.split('/')[-1]\n",
    "        labels.append(filename.split('_')[0])\n",
    "        filenames.append(filename)\n",
    "\n",
    "# create data frame to hold data information\n",
    "data = pd.DataFrame({'label': labels, 'filename': filenames})\n",
    "\n",
    "# print first five rows of data\n",
    "print(data.head())\n",
    "\n",
    "# close tar file\n",
    "tar.close()"
   ]
  },
  {
   "cell_type": "markdown",
   "id": "hollow-funds",
   "metadata": {},
   "source": [
    "## Select Images for Test and Train Sets"
   ]
  },
  {
   "cell_type": "code",
   "execution_count": 2,
   "id": "elementary-modem",
   "metadata": {},
   "outputs": [],
   "source": [
    "from sklearn.model_selection import train_test_split\n",
    "\n",
    "y = data['label']\n",
    "X = data.drop('label',axis=1)\n",
    "\n",
    "# split data into 15% test and 85% train\n",
    "x_train, x_test, y_train, y_test=train_test_split(X, y, train_size=0.85, test_size=0.15, \n",
    "                                                  stratify=y, random_state=123)"
   ]
  },
  {
   "cell_type": "code",
   "execution_count": 3,
   "id": "realistic-journal",
   "metadata": {},
   "outputs": [],
   "source": [
    "import os\n",
    "import shutil\n",
    "\n",
    "def movefiles(filelist, olddir, newdir):\n",
    "    '''\n",
    "    Move files to newdir.\n",
    "    \n",
    "    Parameters:\n",
    "    - filelist: a list of file names\n",
    "    - olddir: current directory where the files reside\n",
    "    - newdir: directory where the files should be moved to\n",
    "    '''\n",
    "    \n",
    "    # move files to the specified directory in newdir\n",
    "    for filename in filelist:\n",
    "        shutil.move(os.path.join(olddir, filename), os.path.join(newdir, filename))"
   ]
  },
  {
   "cell_type": "code",
   "execution_count": 4,
   "id": "regular-belfast",
   "metadata": {},
   "outputs": [],
   "source": [
    "image_dir = 'data/images'\n",
    "test_dir = 'data/test'\n",
    "train_dir = 'data/train'\n",
    "\n",
    "# create directory test/train if not exist\n",
    "for folder in [test_dir, train_dir]:\n",
    "    if not os.path.exists(folder):\n",
    "        os.makedirs(folder)\n",
    "\n",
    "# move images to 'test' folder\n",
    "movefiles(x_test['filename'].to_list(), image_dir, test_dir)\n",
    "\n",
    "# move images to 'train' folder\n",
    "movefiles(x_train['filename'].to_list(), image_dir, train_dir)\n",
    "\n",
    "# remove 'image' directory if empty\n",
    "if len(os.listdir(image_dir)) == 0:\n",
    "    os.remove(image_dir)"
   ]
  },
  {
   "cell_type": "markdown",
   "id": "least-patch",
   "metadata": {},
   "source": [
    "## Save Data to Pickle Files"
   ]
  },
  {
   "cell_type": "code",
   "execution_count": 8,
   "id": "secure-cancellation",
   "metadata": {},
   "outputs": [
    {
     "name": "stdout",
     "output_type": "stream",
     "text": [
      "train size: (6281, 2)\n",
      "test size: (1109, 2)\n"
     ]
    }
   ],
   "source": [
    "# test dataset\n",
    "test_set = pd.concat([x_test, y_test], axis=1)\n",
    "test_set.reset_index(inplace=True)\n",
    "test_set.drop(['index'], axis=1, inplace=True)\n",
    "\n",
    "# train dataset\n",
    "train_set = pd.concat([x_train, y_train], axis=1)\n",
    "train_set.reset_index(inplace=True)\n",
    "train_set.drop(['index'], axis=1, inplace=True)\n",
    "\n",
    "# save data\n",
    "test_set.to_pickle('data/test_data.pkl')\n",
    "train_set.to_pickle('data/train_data.pkl')\n",
    "\n",
    "print('train size:', train_set.shape)\n",
    "print('test size:', test_set.shape)"
   ]
  }
 ],
 "metadata": {
  "kernelspec": {
   "display_name": "Python 3",
   "language": "python",
   "name": "python3"
  },
  "language_info": {
   "codemirror_mode": {
    "name": "ipython",
    "version": 3
   },
   "file_extension": ".py",
   "mimetype": "text/x-python",
   "name": "python",
   "nbconvert_exporter": "python",
   "pygments_lexer": "ipython3",
   "version": "3.8.8"
  }
 },
 "nbformat": 4,
 "nbformat_minor": 5
}
