{
 "cells": [
  {
   "cell_type": "markdown",
   "metadata": {
    "id": "X0Xn0bBFiWxq"
   },
   "source": [
    "# Unet Model Prediction\n",
    "\n",
    " - Produce mask images on test dataset\n",
    " - Get foreground pixels for mask images and save as pickle file"
   ]
  },
  {
   "cell_type": "markdown",
   "metadata": {
    "id": "sUPv2IlXYjVN"
   },
   "source": [
    "## Load Images and Make Prediction"
   ]
  },
  {
   "cell_type": "code",
   "execution_count": 1,
   "metadata": {
    "executionInfo": {
     "elapsed": 11355,
     "status": "ok",
     "timestamp": 1617300900659,
     "user": {
      "displayName": "Ngoc Phan",
      "photoUrl": "",
      "userId": "09481603094395391329"
     },
     "user_tz": 300
    },
    "id": "rVfIWY49jpAX"
   },
   "outputs": [],
   "source": [
    "import tensorflow as tf\n",
    "import numpy as np\n",
    "\n",
    "# load saved model\n",
    "model = tf.keras.models.load_model('unet_model.h5')"
   ]
  },
  {
   "cell_type": "code",
   "execution_count": 2,
   "metadata": {
    "executionInfo": {
     "elapsed": 11346,
     "status": "ok",
     "timestamp": 1617300900660,
     "user": {
      "displayName": "Ngoc Phan",
      "photoUrl": "",
      "userId": "09481603094395391329"
     },
     "user_tz": 300
    },
    "id": "C-pazmHgj9qH"
   },
   "outputs": [],
   "source": [
    "def create_mask(input_image):\n",
    "  # get current image's size\n",
    "  w, h, _ = input_image.shape\n",
    "\n",
    "  # prepare image for model's prediction\n",
    "  input_image = tf.image.resize(input_image, (128, 128))     # resize image\n",
    "  input_image = tf.cast(input_image, tf.float32) / 255.0     # normalize image\n",
    "  input_image = input_image[None,:,:]\n",
    "\n",
    "  # get predicted mask\n",
    "  pred_mask = tf.argmax(model.predict(input_image), axis=-1)\n",
    "  pred_mask = pred_mask[..., tf.newaxis]\n",
    "\n",
    "  # resize image back to original size\n",
    "  out_image = tf.image.resize(pred_mask[0], (w, h))\n",
    "\n",
    "  return out_image"
   ]
  },
  {
   "cell_type": "code",
   "execution_count": 3,
   "metadata": {
    "executionInfo": {
     "elapsed": 11437,
     "status": "ok",
     "timestamp": 1617300900756,
     "user": {
      "displayName": "Ngoc Phan",
      "photoUrl": "",
      "userId": "09481603094395391329"
     },
     "user_tz": 300
    },
    "id": "glfjw9NmvMTI"
   },
   "outputs": [],
   "source": [
    "from zipfile import ZipFile\n",
    "from skimage.io import imread\n",
    "\n",
    "# read input images from a zip file and produce predicted mask\n",
    "def loadData(filepath):\n",
    "    predicted_masks = []   # store predicted mask images\n",
    "    \n",
    "    with ZipFile(filepath, 'r') as zipdata:\n",
    "        namelist = zipdata.namelist()\n",
    "        \n",
    "        # loop through every directory/file\n",
    "        for file_path in namelist:\n",
    "            # read image files and save to list\n",
    "            if '.jpg' in file_path or '.JPG' in file_path:\n",
    "                # load image into list\n",
    "                img_bytes = zipdata.open(file_path)\n",
    "                image = np.array(imread(img_bytes))            # read image byte from zip file\n",
    "                predicted_masks.append(create_mask(image))     # get predicted mask image\n",
    "    \n",
    "    # close zip file\n",
    "    zipdata.close()\n",
    "    \n",
    "    # return a list of predicted mask images\n",
    "    return predicted_masks"
   ]
  },
  {
   "cell_type": "code",
   "execution_count": 4,
   "metadata": {
    "executionInfo": {
     "elapsed": 26509,
     "status": "ok",
     "timestamp": 1617300915832,
     "user": {
      "displayName": "Ngoc Phan",
      "photoUrl": "",
      "userId": "09481603094395391329"
     },
     "user_tz": 300
    },
    "id": "AMBI1238HUeV"
   },
   "outputs": [],
   "source": [
    "# load input images and get predicted masks\n",
    "masks = loadData('../data/Oxford-IIIT Pet test.zip')"
   ]
  },
  {
   "cell_type": "markdown",
   "metadata": {
    "id": "mmw1Mr6YNoWe"
   },
   "source": [
    "## Get Foreground Pixels"
   ]
  },
  {
   "cell_type": "code",
   "execution_count": 5,
   "metadata": {
    "executionInfo": {
     "elapsed": 26505,
     "status": "ok",
     "timestamp": 1617300915833,
     "user": {
      "displayName": "Ngoc Phan",
      "photoUrl": "",
      "userId": "09481603094395391329"
     },
     "user_tz": 300
    },
    "id": "rNLE65uyaVaG"
   },
   "outputs": [],
   "source": [
    "def get_foreground(segmented_image):\n",
    "  np_image = segmented_image.numpy()\n",
    "  foreground_pixels = []\n",
    "  foreground_value = 0\n",
    "\n",
    "  # iterate through height\n",
    "  for y in range(segmented_image.shape[0]):\n",
    "    # iterate through width\n",
    "    for x in range(segmented_image.shape[1]):\n",
    "      # if this is a foreground pixel\n",
    "      if np_image[y, x] == foreground_value:\n",
    "        foreground_pixels.append((x, y)) # add it to my list of (x, y) coordinate pairs\n",
    "  \n",
    "  return foreground_pixels"
   ]
  },
  {
   "cell_type": "code",
   "execution_count": 6,
   "metadata": {
    "id": "nL6Bj_H_ZKF1"
   },
   "outputs": [],
   "source": [
    "fg_pixels = []      # foreground pixels of predicted mask\n",
    "\n",
    "for predicted_mask in masks:\n",
    "  fg_pixels.append(get_foreground(predicted_mask))"
   ]
  },
  {
   "cell_type": "code",
   "execution_count": 7,
   "metadata": {
    "id": "GJfokXTyar-A"
   },
   "outputs": [],
   "source": [
    "import pickle\n",
    "\n",
    "# save foreground pixels\n",
    "with open('../data/model_fg_pixels.pkl', 'wb') as f:\n",
    "  pickle.dump(fg_pixels, f)"
   ]
  }
 ],
 "metadata": {
  "accelerator": "GPU",
  "colab": {
   "authorship_tag": "ABX9TyODDQl37XHDO/dMJptkFuhm",
   "collapsed_sections": [],
   "mount_file_id": "1aS9Ie420hcxTe5EEaybE6S0Al_7RRWnS",
   "name": "unet_predicts.ipynb",
   "provenance": [],
   "toc_visible": true
  },
  "kernelspec": {
   "display_name": "Python 3",
   "language": "python",
   "name": "python3"
  },
  "language_info": {
   "codemirror_mode": {
    "name": "ipython",
    "version": 3
   },
   "file_extension": ".py",
   "mimetype": "text/x-python",
   "name": "python",
   "nbconvert_exporter": "python",
   "pygments_lexer": "ipython3",
   "version": "3.8.8"
  }
 },
 "nbformat": 4,
 "nbformat_minor": 1
}
