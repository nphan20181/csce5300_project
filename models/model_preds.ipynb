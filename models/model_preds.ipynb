{
 "cells": [
  {
   "cell_type": "markdown",
   "metadata": {
    "id": "FanptliVpd6G"
   },
   "source": [
    "# Create Model & Load Saved Weights"
   ]
  },
  {
   "cell_type": "code",
   "execution_count": 1,
   "metadata": {
    "executionInfo": {
     "elapsed": 2219,
     "status": "ok",
     "timestamp": 1615456182541,
     "user": {
      "displayName": "Ngoc Phan",
      "photoUrl": "",
      "userId": "09481603094395391329"
     },
     "user_tz": 360
    },
    "id": "UsJKtPK2p5nI"
   },
   "outputs": [],
   "source": [
    "# load classes from python file resnet_18.py\n",
    "from resnet_18 import ResNet18\n",
    "\n",
    "def getModel():\n",
    "    model = ResNet18(10)\n",
    "    model.build(input_shape = (None,32,32,3))\n",
    "    model.compile(optimizer = \"adam\", loss='categorical_crossentropy', metrics=[\"accuracy\"])\n",
    "    \n",
    "    return model"
   ]
  },
  {
   "cell_type": "code",
   "execution_count": 2,
   "metadata": {
    "colab": {
     "base_uri": "https://localhost:8080/"
    },
    "executionInfo": {
     "elapsed": 3787,
     "status": "ok",
     "timestamp": 1615456184118,
     "user": {
      "displayName": "Ngoc Phan",
      "photoUrl": "",
      "userId": "09481603094395391329"
     },
     "user_tz": 360
    },
    "id": "UD5iKwoXpmDq",
    "outputId": "3b583ae3-157b-46fc-98a7-b025c4ab63e1"
   },
   "outputs": [
    {
     "name": "stdout",
     "output_type": "stream",
     "text": [
      "WARNING:tensorflow:AutoGraph could not transform <bound method ResnetBlock.call of <resnet_18.ResnetBlock object at 0x0000024E3FEB0B50>> and will run it as-is.\n",
      "Cause: mangled names are not yet supported\n",
      "To silence this warning, decorate the function with @tf.autograph.experimental.do_not_convert\n",
      "WARNING: AutoGraph could not transform <bound method ResnetBlock.call of <resnet_18.ResnetBlock object at 0x0000024E3FEB0B50>> and will run it as-is.\n",
      "Cause: mangled names are not yet supported\n",
      "To silence this warning, decorate the function with @tf.autograph.experimental.do_not_convert\n"
     ]
    }
   ],
   "source": [
    "# build model and load weights\n",
    "model1 = getModel()\n",
    "\n",
    "# load weights\n",
    "model1.load_weights('resnet_18.h5')"
   ]
  },
  {
   "cell_type": "markdown",
   "metadata": {
    "id": "wdY1IZfyq8dd"
   },
   "source": [
    "# Prediction"
   ]
  },
  {
   "cell_type": "code",
   "execution_count": 3,
   "metadata": {
    "executionInfo": {
     "elapsed": 3784,
     "status": "ok",
     "timestamp": 1615456184120,
     "user": {
      "displayName": "Ngoc Phan",
      "photoUrl": "",
      "userId": "09481603094395391329"
     },
     "user_tz": 360
    },
    "id": "d_qSZVdUq-Zd"
   },
   "outputs": [],
   "source": [
    "from PIL import Image\n",
    "import numpy as np\n",
    "\n",
    "def predict(classifier, image_path):\n",
    "  # class label\n",
    "  labels = ['airplane', 'automobile', 'bird', 'cat', 'deer', 'dog', 'frog', 'horse', 'ship', 'truck']\n",
    "\n",
    "  image = Image.open(image_path)\n",
    "  #plt.show(image)\n",
    "\n",
    "  # resize image\n",
    "  im = image.resize((32,32))\n",
    "  \n",
    "  # normalize the data.\n",
    "  im = np.array(im).astype('float32') / 255.0\n",
    "  im = np.expand_dims(im, axis=0)\n",
    "\n",
    "  # close image\n",
    "  image.close()\n",
    "\n",
    "  # classify image\n",
    "  pred = classifier.predict(im)\n",
    "  index = np.argmax(pred, axis=1)[0]\n",
    "\n",
    "  print(image_path.split('\\\\')[-1], ':', labels[index], pred[0][index])"
   ]
  },
  {
   "cell_type": "code",
   "execution_count": 4,
   "metadata": {
    "colab": {
     "base_uri": "https://localhost:8080/"
    },
    "executionInfo": {
     "elapsed": 5481,
     "status": "ok",
     "timestamp": 1615456185821,
     "user": {
      "displayName": "Ngoc Phan",
      "photoUrl": "",
      "userId": "09481603094395391329"
     },
     "user_tz": 360
    },
    "id": "tYDT9IsErMvF",
    "outputId": "666657ea-661d-4570-bcb8-11d21a9dd8ad"
   },
   "outputs": [
    {
     "name": "stdout",
     "output_type": "stream",
     "text": [
      "car.jpg : automobile 1.0\n",
      "cat.jpg : dog 0.9996878\n",
      "horse.jpg : dog 0.46701697\n"
     ]
    }
   ],
   "source": [
    "import glob\n",
    "\n",
    "# classify all images in folder 'test_images'\n",
    "for img in glob.glob(\"../test_images/*.jpg\"):\n",
    "    predict(model1, img)"
   ]
  }
 ],
 "metadata": {
  "accelerator": "GPU",
  "colab": {
   "authorship_tag": "ABX9TyNAtKKolXy+HH/DNww4mZ+b",
   "collapsed_sections": [],
   "name": "model_preds.ipynb",
   "provenance": []
  },
  "kernelspec": {
   "display_name": "Python 3",
   "language": "python",
   "name": "python3"
  },
  "language_info": {
   "codemirror_mode": {
    "name": "ipython",
    "version": 3
   },
   "file_extension": ".py",
   "mimetype": "text/x-python",
   "name": "python",
   "nbconvert_exporter": "python",
   "pygments_lexer": "ipython3",
   "version": "3.8.8"
  }
 },
 "nbformat": 4,
 "nbformat_minor": 1
}
