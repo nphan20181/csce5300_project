{
 "cells": [
  {
   "cell_type": "markdown",
   "metadata": {
    "id": "_yUH-XohXJCr"
   },
   "source": [
    "# Implementing ResNet-18 Using Keras"
   ]
  },
  {
   "cell_type": "markdown",
   "metadata": {
    "id": "zdXFeIHSXJCx"
   },
   "source": [
    "Implement ResNet-18 using Keras\n",
    "\n",
    "Codes below are taken from [Github](https://github.com/songrise/CNN_Keras)"
   ]
  },
  {
   "cell_type": "markdown",
   "metadata": {
    "id": "VtFeZ9DuXJCy"
   },
   "source": [
    "## preprocess"
   ]
  },
  {
   "cell_type": "code",
   "execution_count": 1,
   "metadata": {
    "_cell_guid": "b1076dfc-b9ad-4769-8c92-a6c4dae69d19",
    "_uuid": "8f2839f25d086af736a60e9eeb907d3b93b6e0e5",
    "executionInfo": {
     "elapsed": 1632,
     "status": "ok",
     "timestamp": 1615451914010,
     "user": {
      "displayName": "Ngoc Phan",
      "photoUrl": "",
      "userId": "09481603094395391329"
     },
     "user_tz": 360
    },
    "id": "puFpNstxXJCy"
   },
   "outputs": [],
   "source": [
    "#Import Libraries\n",
    "import numpy as np\n",
    "import pandas as pd\n",
    "import matplotlib.pyplot as plt\n",
    "import tensorflow as tf\n",
    "import keras\n",
    "from tensorflow.keras import datasets,models,layers\n"
   ]
  },
  {
   "cell_type": "code",
   "execution_count": 2,
   "metadata": {
    "_cell_guid": "79c7e3d0-c299-4dcb-8224-4455121ee9b0",
    "_uuid": "d629ff2d2480ee46fbb7e2d37f6b5fab8052498a",
    "executionInfo": {
     "elapsed": 2287,
     "status": "ok",
     "timestamp": 1615451914674,
     "user": {
      "displayName": "Ngoc Phan",
      "photoUrl": "",
      "userId": "09481603094395391329"
     },
     "user_tz": 360
    },
    "id": "znek29ePXJCz"
   },
   "outputs": [],
   "source": [
    "\n",
    "# Adding TF Cifar10 Data ..\n",
    "from keras.datasets import cifar10\n",
    "(X_train, Y_train), (X_test, Y_test) = cifar10.load_data()\n",
    "\n"
   ]
  },
  {
   "cell_type": "code",
   "execution_count": 3,
   "metadata": {
    "colab": {
     "base_uri": "https://localhost:8080/",
     "height": 283
    },
    "executionInfo": {
     "elapsed": 2429,
     "status": "ok",
     "timestamp": 1615451914824,
     "user": {
      "displayName": "Ngoc Phan",
      "photoUrl": "",
      "userId": "09481603094395391329"
     },
     "user_tz": 360
    },
    "id": "mnFbCPK3XJC0",
    "outputId": "bafd81f3-15f1-4582-cac0-abf1a7b865ce"
   },
   "outputs": [
    {
     "data": {
      "text/plain": [
       "<matplotlib.image.AxesImage at 0x7fceb9f8ecd0>"
      ]
     },
     "execution_count": 3,
     "metadata": {
      "tags": []
     },
     "output_type": "execute_result"
    },
    {
     "data": {
      "image/png": "[encoded data removed]",
      "text/plain": [
       "<Figure size 432x288 with 1 Axes>"
      ]
     },
     "metadata": {
      "needs_background": "light",
      "tags": []
     },
     "output_type": "display_data"
    }
   ],
   "source": [
    "# Drawing sample . \n",
    "plt.imshow(X_train[42])"
   ]
  },
  {
   "cell_type": "code",
   "execution_count": 4,
   "metadata": {
    "executionInfo": {
     "elapsed": 2697,
     "status": "ok",
     "timestamp": 1615451915101,
     "user": {
      "displayName": "Ngoc Phan",
      "photoUrl": "",
      "userId": "09481603094395391329"
     },
     "user_tz": 360
    },
    "id": "UkD5nARwXJC0"
   },
   "outputs": [],
   "source": [
    "# Normalize the data.\n",
    "X_train = X_train.astype('float32')\n",
    "X_test = X_test.astype('float32')\n",
    "X_train /= 255.0\n",
    "X_test /= 255.0"
   ]
  },
  {
   "cell_type": "code",
   "execution_count": 5,
   "metadata": {
    "executionInfo": {
     "elapsed": 3142,
     "status": "ok",
     "timestamp": 1615451915552,
     "user": {
      "displayName": "Ngoc Phan",
      "photoUrl": "",
      "userId": "09481603094395391329"
     },
     "user_tz": 360
    },
    "id": "ouRux1p-XJC0"
   },
   "outputs": [],
   "source": [
    "from sklearn.model_selection import train_test_split\n",
    "X_train, X_val, Y_train, Y_val = train_test_split(X_train, Y_train, test_size = 0.2,shuffle = True)"
   ]
  },
  {
   "cell_type": "code",
   "execution_count": 6,
   "metadata": {
    "executionInfo": {
     "elapsed": 3139,
     "status": "ok",
     "timestamp": 1615451915553,
     "user": {
      "displayName": "Ngoc Phan",
      "photoUrl": "",
      "userId": "09481603094395391329"
     },
     "user_tz": 360
    },
    "id": "zd1g8MLmXJC1"
   },
   "outputs": [],
   "source": [
    "from sklearn.preprocessing import OneHotEncoder\n",
    "encoder = OneHotEncoder()\n",
    "encoder.fit(Y_train)\n",
    "Y_train = encoder.transform(Y_train).toarray()\n",
    "Y_test = encoder.transform(Y_test).toarray()\n",
    "Y_val =  encoder.transform(Y_val).toarray()"
   ]
  },
  {
   "cell_type": "markdown",
   "metadata": {
    "id": "eUwMzPw7XJC1"
   },
   "source": [
    "## Data Augmentation"
   ]
  },
  {
   "cell_type": "code",
   "execution_count": 7,
   "metadata": {
    "executionInfo": {
     "elapsed": 3300,
     "status": "ok",
     "timestamp": 1615451915720,
     "user": {
      "displayName": "Ngoc Phan",
      "photoUrl": "",
      "userId": "09481603094395391329"
     },
     "user_tz": 360
    },
    "id": "PkyAUh2QXJC1"
   },
   "outputs": [],
   "source": [
    "from keras.preprocessing.image import ImageDataGenerator\n",
    "aug = ImageDataGenerator(horizontal_flip=True, width_shift_range=0.05,\n",
    "                             height_shift_range=0.05)\n",
    "aug.fit(X_train)"
   ]
  },
  {
   "cell_type": "markdown",
   "metadata": {
    "id": "W5ch3VFIXJC1"
   },
   "source": [
    "# Implement ResNet-18 model"
   ]
  },
  {
   "cell_type": "code",
   "execution_count": 8,
   "metadata": {
    "executionInfo": {
     "elapsed": 3293,
     "status": "ok",
     "timestamp": 1615451915721,
     "user": {
      "displayName": "Ngoc Phan",
      "photoUrl": "",
      "userId": "09481603094395391329"
     },
     "user_tz": 360
    },
    "id": "oihd3JZdXJC2"
   },
   "outputs": [],
   "source": [
    "\"\"\"\n",
    "ResNet-18\n",
    "Reference:\n",
    "[1] K. He et al. Deep Residual Learning for Image Recognition. CVPR, 2016\n",
    "[2] K. He, X. Zhang, S. Ren, and J. Sun. Delving deep into rectifiers:\n",
    "Surpassing human-level performance on imagenet classification. In\n",
    "ICCV, 2015.\n",
    "\"\"\"\n",
    "\n",
    "\n",
    "from keras.callbacks import EarlyStopping\n",
    "from keras.layers import Dense, Conv2D,  MaxPool2D, Flatten, GlobalAveragePooling2D,  BatchNormalization, Layer, Add\n",
    "from keras.models import Sequential\n",
    "from keras.models import Model\n",
    "import tensorflow as tf\n",
    "\n",
    "\n",
    "class ResnetBlock(Model):\n",
    "    \"\"\"\n",
    "    A standard resnet block.\n",
    "    \"\"\"\n",
    "\n",
    "    def __init__(self, channels: int, down_sample=False):\n",
    "        \"\"\"\n",
    "        channels: same as number of convolution kernels\n",
    "        \"\"\"\n",
    "        super().__init__()\n",
    "\n",
    "        self.__channels = channels\n",
    "        self.__down_sample = down_sample\n",
    "        self.__strides = [2, 1] if down_sample else [1, 1]\n",
    "\n",
    "        KERNEL_SIZE = (3, 3)\n",
    "        # use He initialization, instead of Xavier (a.k.a 'glorot_uniform' in Keras), as suggested in [2]\n",
    "        INIT_SCHEME = \"he_normal\"\n",
    "\n",
    "        self.conv_1 = Conv2D(self.__channels, strides=self.__strides[0],\n",
    "                             kernel_size=KERNEL_SIZE, padding=\"same\", kernel_initializer=INIT_SCHEME)\n",
    "        self.bn_1 = BatchNormalization()\n",
    "        self.conv_2 = Conv2D(self.__channels, strides=self.__strides[1],\n",
    "                             kernel_size=KERNEL_SIZE, padding=\"same\", kernel_initializer=INIT_SCHEME)\n",
    "        self.bn_2 = BatchNormalization()\n",
    "        self.merge = Add()\n",
    "\n",
    "        if self.__down_sample:\n",
    "            # perform down sampling using stride of 2, according to [1].\n",
    "            self.res_conv = Conv2D(\n",
    "                self.__channels, strides=2, kernel_size=(1, 1), kernel_initializer=INIT_SCHEME, padding=\"same\")\n",
    "            self.res_bn = BatchNormalization()\n",
    "\n",
    "    def call(self, inputs):\n",
    "        res = inputs\n",
    "\n",
    "        x = self.conv_1(inputs)\n",
    "        x = self.bn_1(x)\n",
    "        x = tf.nn.relu(x)\n",
    "        x = self.conv_2(x)\n",
    "        x = self.bn_2(x)\n",
    "\n",
    "        if self.__down_sample:\n",
    "            res = self.res_conv(res)\n",
    "            res = self.res_bn(res)\n",
    "\n",
    "        # if not perform down sample, then add a shortcut directly\n",
    "        x = self.merge([x, res])\n",
    "        out = tf.nn.relu(x)\n",
    "        return out\n",
    "\n",
    "\n",
    "class ResNet18(Model):\n",
    "\n",
    "    def __init__(self, num_classes, **kwargs):\n",
    "        \"\"\"\n",
    "            num_classes: number of classes in specific classification task.\n",
    "        \"\"\"\n",
    "        super().__init__(**kwargs)\n",
    "        self.conv_1 = Conv2D(64, (7, 7), strides=2,\n",
    "                             padding=\"same\", kernel_initializer=\"he_normal\")\n",
    "        self.init_bn = BatchNormalization()\n",
    "        self.pool_2 = MaxPool2D(pool_size=(2, 2), strides=2, padding=\"same\")\n",
    "        self.res_1_1 = ResnetBlock(64)\n",
    "        self.res_1_2 = ResnetBlock(64)\n",
    "        self.res_2_1 = ResnetBlock(128, down_sample=True)\n",
    "        self.res_2_2 = ResnetBlock(128)\n",
    "        self.res_3_1 = ResnetBlock(256, down_sample=True)\n",
    "        self.res_3_2 = ResnetBlock(256)\n",
    "        self.res_4_1 = ResnetBlock(512, down_sample=True)\n",
    "        self.res_4_2 = ResnetBlock(512)\n",
    "        self.avg_pool = GlobalAveragePooling2D()\n",
    "        self.flat = Flatten()\n",
    "        self.fc = Dense(num_classes, activation=\"softmax\")\n",
    "\n",
    "    def call(self, inputs):\n",
    "        out = self.conv_1(inputs)\n",
    "        out = self.init_bn(out)\n",
    "        out = tf.nn.relu(out)\n",
    "        out = self.pool_2(out)\n",
    "        for res_block in [self.res_1_1, self.res_1_2, self.res_2_1, self.res_2_2, self.res_3_1, self.res_3_2, self.res_4_1, self.res_4_2]:\n",
    "            out = res_block(out)\n",
    "        out = self.avg_pool(out)\n",
    "        out = self.flat(out)\n",
    "        out = self.fc(out)\n",
    "        return out\n",
    "\n"
   ]
  },
  {
   "cell_type": "code",
   "execution_count": 9,
   "metadata": {
    "colab": {
     "base_uri": "https://localhost:8080/"
    },
    "executionInfo": {
     "elapsed": 4140,
     "status": "ok",
     "timestamp": 1615451916573,
     "user": {
      "displayName": "Ngoc Phan",
      "photoUrl": "",
      "userId": "09481603094395391329"
     },
     "user_tz": 360
    },
    "id": "isbfVvv5XJC3",
    "outputId": "5c2edbd5-6140-485b-c08d-06880dd11f43"
   },
   "outputs": [
    {
     "name": "stdout",
     "output_type": "stream",
     "text": [
      "WARNING:tensorflow:AutoGraph could not transform <bound method ResnetBlock.call of <__main__.ResnetBlock object at 0x7fcea0542510>> and will run it as-is.\n",
      "Cause: mangled names are not yet supported\n",
      "To silence this warning, decorate the function with @tf.autograph.experimental.do_not_convert\n",
      "WARNING: AutoGraph could not transform <bound method ResnetBlock.call of <__main__.ResnetBlock object at 0x7fcea0542510>> and will run it as-is.\n",
      "Cause: mangled names are not yet supported\n",
      "To silence this warning, decorate the function with @tf.autograph.experimental.do_not_convert\n",
      "Model: \"res_net18\"\n",
      "_________________________________________________________________\n",
      "Layer (type)                 Output Shape              Param #   \n",
      "=================================================================\n",
      "conv2d (Conv2D)              multiple                  9472      \n",
      "_________________________________________________________________\n",
      "batch_normalization (BatchNo multiple                  256       \n",
      "_________________________________________________________________\n",
      "max_pooling2d (MaxPooling2D) multiple                  0         \n",
      "_________________________________________________________________\n",
      "resnet_block (ResnetBlock)   multiple                  74368     \n",
      "_________________________________________________________________\n",
      "resnet_block_1 (ResnetBlock) multiple                  74368     \n",
      "_________________________________________________________________\n",
      "resnet_block_2 (ResnetBlock) multiple                  231296    \n",
      "_________________________________________________________________\n",
      "resnet_block_3 (ResnetBlock) multiple                  296192    \n",
      "_________________________________________________________________\n",
      "resnet_block_4 (ResnetBlock) multiple                  921344    \n",
      "_________________________________________________________________\n",
      "resnet_block_5 (ResnetBlock) multiple                  1182208   \n",
      "_________________________________________________________________\n",
      "resnet_block_6 (ResnetBlock) multiple                  3677696   \n",
      "_________________________________________________________________\n",
      "resnet_block_7 (ResnetBlock) multiple                  4723712   \n",
      "_________________________________________________________________\n",
      "global_average_pooling2d (Gl multiple                  0         \n",
      "_________________________________________________________________\n",
      "flatten (Flatten)            multiple                  0         \n",
      "_________________________________________________________________\n",
      "dense (Dense)                multiple                  5130      \n",
      "=================================================================\n",
      "Total params: 11,196,042\n",
      "Trainable params: 11,186,442\n",
      "Non-trainable params: 9,600\n",
      "_________________________________________________________________\n"
     ]
    }
   ],
   "source": [
    "model = ResNet18(10)\n",
    "model.build(input_shape = (None,32,32,3))\n",
    "#use categorical_crossentropy since the label is one-hot encoded\n",
    "from keras.optimizers import SGD\n",
    "# opt = SGD(learning_rate=0.1,momentum=0.9,decay = 1e-04) #parameters suggested by He [1]\n",
    "model.compile(optimizer = \"adam\",loss='categorical_crossentropy', metrics=[\"accuracy\"]) \n",
    "model.summary()\n"
   ]
  },
  {
   "cell_type": "code",
   "execution_count": 10,
   "metadata": {
    "colab": {
     "base_uri": "https://localhost:8080/"
    },
    "executionInfo": {
     "elapsed": 1036061,
     "status": "ok",
     "timestamp": 1615452948501,
     "user": {
      "displayName": "Ngoc Phan",
      "photoUrl": "",
      "userId": "09481603094395391329"
     },
     "user_tz": 360
    },
    "id": "t5mDTh_vXJC3",
    "outputId": "6ecacee0-24a7-4176-f9cc-df27ac9a6543"
   },
   "outputs": [
    {
     "name": "stdout",
     "output_type": "stream",
     "text": [
      "Epoch 1/50\n",
      "156/156 [==============================] - 27s 139ms/step - loss: 1.9982 - accuracy: 0.3531 - val_loss: 2.2968 - val_accuracy: 0.2672\n",
      "WARNING:tensorflow:Early stopping conditioned on metric `val_acc` which is not available. Available metrics are: loss,accuracy,val_loss,val_accuracy\n",
      "Epoch 2/50\n",
      "156/156 [==============================] - 20s 130ms/step - loss: 1.2617 - accuracy: 0.5490 - val_loss: 1.4379 - val_accuracy: 0.4797\n",
      "WARNING:tensorflow:Early stopping conditioned on metric `val_acc` which is not available. Available metrics are: loss,accuracy,val_loss,val_accuracy\n",
      "Epoch 3/50\n",
      "156/156 [==============================] - 20s 129ms/step - loss: 1.0855 - accuracy: 0.6098 - val_loss: 1.1431 - val_accuracy: 0.5984\n",
      "WARNING:tensorflow:Early stopping conditioned on metric `val_acc` which is not available. Available metrics are: loss,accuracy,val_loss,val_accuracy\n",
      "Epoch 4/50\n",
      "156/156 [==============================] - 20s 130ms/step - loss: 0.9781 - accuracy: 0.6538 - val_loss: 1.0788 - val_accuracy: 0.6245\n",
      "WARNING:tensorflow:Early stopping conditioned on metric `val_acc` which is not available. Available metrics are: loss,accuracy,val_loss,val_accuracy\n",
      "Epoch 5/50\n",
      "156/156 [==============================] - 20s 130ms/step - loss: 0.8728 - accuracy: 0.6917 - val_loss: 0.9970 - val_accuracy: 0.6519\n",
      "WARNING:tensorflow:Early stopping conditioned on metric `val_acc` which is not available. Available metrics are: loss,accuracy,val_loss,val_accuracy\n",
      "Epoch 6/50\n",
      "156/156 [==============================] - 20s 131ms/step - loss: 0.8041 - accuracy: 0.7187 - val_loss: 1.0168 - val_accuracy: 0.6426\n",
      "WARNING:tensorflow:Early stopping conditioned on metric `val_acc` which is not available. Available metrics are: loss,accuracy,val_loss,val_accuracy\n",
      "Epoch 7/50\n",
      "156/156 [==============================] - 20s 129ms/step - loss: 0.7487 - accuracy: 0.7345 - val_loss: 1.0912 - val_accuracy: 0.6449\n",
      "WARNING:tensorflow:Early stopping conditioned on metric `val_acc` which is not available. Available metrics are: loss,accuracy,val_loss,val_accuracy\n",
      "Epoch 8/50\n",
      "156/156 [==============================] - 20s 130ms/step - loss: 0.6999 - accuracy: 0.7515 - val_loss: 0.9973 - val_accuracy: 0.6711\n",
      "WARNING:tensorflow:Early stopping conditioned on metric `val_acc` which is not available. Available metrics are: loss,accuracy,val_loss,val_accuracy\n",
      "Epoch 9/50\n",
      "156/156 [==============================] - 21s 131ms/step - loss: 0.6565 - accuracy: 0.7687 - val_loss: 0.7758 - val_accuracy: 0.7272\n",
      "WARNING:tensorflow:Early stopping conditioned on metric `val_acc` which is not available. Available metrics are: loss,accuracy,val_loss,val_accuracy\n",
      "Epoch 10/50\n",
      "156/156 [==============================] - 20s 130ms/step - loss: 0.6141 - accuracy: 0.7851 - val_loss: 0.7133 - val_accuracy: 0.7526\n",
      "WARNING:tensorflow:Early stopping conditioned on metric `val_acc` which is not available. Available metrics are: loss,accuracy,val_loss,val_accuracy\n",
      "Epoch 11/50\n",
      "156/156 [==============================] - 20s 130ms/step - loss: 0.5696 - accuracy: 0.7996 - val_loss: 0.7358 - val_accuracy: 0.7419\n",
      "WARNING:tensorflow:Early stopping conditioned on metric `val_acc` which is not available. Available metrics are: loss,accuracy,val_loss,val_accuracy\n",
      "Epoch 12/50\n",
      "156/156 [==============================] - 20s 129ms/step - loss: 0.5393 - accuracy: 0.8089 - val_loss: 0.7049 - val_accuracy: 0.7593\n",
      "WARNING:tensorflow:Early stopping conditioned on metric `val_acc` which is not available. Available metrics are: loss,accuracy,val_loss,val_accuracy\n",
      "Epoch 13/50\n",
      "156/156 [==============================] - 20s 130ms/step - loss: 0.4991 - accuracy: 0.8256 - val_loss: 0.7087 - val_accuracy: 0.7562\n",
      "WARNING:tensorflow:Early stopping conditioned on metric `val_acc` which is not available. Available metrics are: loss,accuracy,val_loss,val_accuracy\n",
      "Epoch 14/50\n",
      "156/156 [==============================] - 20s 131ms/step - loss: 0.4720 - accuracy: 0.8343 - val_loss: 0.6054 - val_accuracy: 0.7939\n",
      "WARNING:tensorflow:Early stopping conditioned on metric `val_acc` which is not available. Available metrics are: loss,accuracy,val_loss,val_accuracy\n",
      "Epoch 15/50\n",
      "156/156 [==============================] - 20s 130ms/step - loss: 0.4615 - accuracy: 0.8365 - val_loss: 0.5109 - val_accuracy: 0.8218\n",
      "WARNING:tensorflow:Early stopping conditioned on metric `val_acc` which is not available. Available metrics are: loss,accuracy,val_loss,val_accuracy\n",
      "Epoch 16/50\n",
      "156/156 [==============================] - 20s 130ms/step - loss: 0.4251 - accuracy: 0.8484 - val_loss: 0.6273 - val_accuracy: 0.7833\n",
      "WARNING:tensorflow:Early stopping conditioned on metric `val_acc` which is not available. Available metrics are: loss,accuracy,val_loss,val_accuracy\n",
      "Epoch 17/50\n",
      "156/156 [==============================] - 20s 130ms/step - loss: 0.4018 - accuracy: 0.8590 - val_loss: 0.5949 - val_accuracy: 0.7927\n",
      "WARNING:tensorflow:Early stopping conditioned on metric `val_acc` which is not available. Available metrics are: loss,accuracy,val_loss,val_accuracy\n",
      "Epoch 18/50\n",
      "156/156 [==============================] - 20s 131ms/step - loss: 0.3865 - accuracy: 0.8594 - val_loss: 0.4793 - val_accuracy: 0.8352\n",
      "WARNING:tensorflow:Early stopping conditioned on metric `val_acc` which is not available. Available metrics are: loss,accuracy,val_loss,val_accuracy\n",
      "Epoch 19/50\n",
      "156/156 [==============================] - 21s 133ms/step - loss: 0.3732 - accuracy: 0.8690 - val_loss: 0.4267 - val_accuracy: 0.8488\n",
      "WARNING:tensorflow:Early stopping conditioned on metric `val_acc` which is not available. Available metrics are: loss,accuracy,val_loss,val_accuracy\n",
      "Epoch 20/50\n",
      "156/156 [==============================] - 21s 132ms/step - loss: 0.3304 - accuracy: 0.8854 - val_loss: 0.4395 - val_accuracy: 0.8431\n",
      "WARNING:tensorflow:Early stopping conditioned on metric `val_acc` which is not available. Available metrics are: loss,accuracy,val_loss,val_accuracy\n",
      "Epoch 21/50\n",
      "156/156 [==============================] - 21s 133ms/step - loss: 0.3111 - accuracy: 0.8894 - val_loss: 0.3917 - val_accuracy: 0.8660\n",
      "WARNING:tensorflow:Early stopping conditioned on metric `val_acc` which is not available. Available metrics are: loss,accuracy,val_loss,val_accuracy\n",
      "Epoch 22/50\n",
      "156/156 [==============================] - 21s 132ms/step - loss: 0.2943 - accuracy: 0.8945 - val_loss: 0.3305 - val_accuracy: 0.8816\n",
      "WARNING:tensorflow:Early stopping conditioned on metric `val_acc` which is not available. Available metrics are: loss,accuracy,val_loss,val_accuracy\n",
      "Epoch 23/50\n",
      "156/156 [==============================] - 21s 132ms/step - loss: 0.2718 - accuracy: 0.9024 - val_loss: 0.3581 - val_accuracy: 0.8766\n",
      "WARNING:tensorflow:Early stopping conditioned on metric `val_acc` which is not available. Available metrics are: loss,accuracy,val_loss,val_accuracy\n",
      "Epoch 24/50\n",
      "156/156 [==============================] - 21s 133ms/step - loss: 0.2811 - accuracy: 0.9005 - val_loss: 0.5232 - val_accuracy: 0.8286\n",
      "WARNING:tensorflow:Early stopping conditioned on metric `val_acc` which is not available. Available metrics are: loss,accuracy,val_loss,val_accuracy\n",
      "Epoch 25/50\n",
      "156/156 [==============================] - 21s 133ms/step - loss: 0.2502 - accuracy: 0.9113 - val_loss: 0.3088 - val_accuracy: 0.8911\n",
      "WARNING:tensorflow:Early stopping conditioned on metric `val_acc` which is not available. Available metrics are: loss,accuracy,val_loss,val_accuracy\n",
      "Epoch 26/50\n",
      "156/156 [==============================] - 20s 131ms/step - loss: 0.2370 - accuracy: 0.9153 - val_loss: 0.2147 - val_accuracy: 0.9265\n",
      "WARNING:tensorflow:Early stopping conditioned on metric `val_acc` which is not available. Available metrics are: loss,accuracy,val_loss,val_accuracy\n",
      "Epoch 27/50\n",
      "156/156 [==============================] - 21s 131ms/step - loss: 0.2211 - accuracy: 0.9217 - val_loss: 0.2549 - val_accuracy: 0.9114\n",
      "WARNING:tensorflow:Early stopping conditioned on metric `val_acc` which is not available. Available metrics are: loss,accuracy,val_loss,val_accuracy\n",
      "Epoch 28/50\n",
      "156/156 [==============================] - 21s 132ms/step - loss: 0.2019 - accuracy: 0.9268 - val_loss: 0.4477 - val_accuracy: 0.8517\n",
      "WARNING:tensorflow:Early stopping conditioned on metric `val_acc` which is not available. Available metrics are: loss,accuracy,val_loss,val_accuracy\n",
      "Epoch 29/50\n",
      "156/156 [==============================] - 21s 131ms/step - loss: 0.1940 - accuracy: 0.9314 - val_loss: 0.4473 - val_accuracy: 0.8542\n",
      "WARNING:tensorflow:Early stopping conditioned on metric `val_acc` which is not available. Available metrics are: loss,accuracy,val_loss,val_accuracy\n",
      "Epoch 30/50\n",
      "156/156 [==============================] - 21s 132ms/step - loss: 0.1915 - accuracy: 0.9328 - val_loss: 0.3484 - val_accuracy: 0.8844\n",
      "WARNING:tensorflow:Early stopping conditioned on metric `val_acc` which is not available. Available metrics are: loss,accuracy,val_loss,val_accuracy\n",
      "Epoch 31/50\n",
      "156/156 [==============================] - 21s 132ms/step - loss: 0.1831 - accuracy: 0.9347 - val_loss: 0.4051 - val_accuracy: 0.8671\n",
      "WARNING:tensorflow:Early stopping conditioned on metric `val_acc` which is not available. Available metrics are: loss,accuracy,val_loss,val_accuracy\n",
      "Epoch 32/50\n",
      "156/156 [==============================] - 20s 131ms/step - loss: 0.1804 - accuracy: 0.9360 - val_loss: 0.3588 - val_accuracy: 0.8842\n",
      "WARNING:tensorflow:Early stopping conditioned on metric `val_acc` which is not available. Available metrics are: loss,accuracy,val_loss,val_accuracy\n",
      "Epoch 33/50\n",
      "156/156 [==============================] - 21s 132ms/step - loss: 0.1723 - accuracy: 0.9379 - val_loss: 0.2162 - val_accuracy: 0.9231\n",
      "WARNING:tensorflow:Early stopping conditioned on metric `val_acc` which is not available. Available metrics are: loss,accuracy,val_loss,val_accuracy\n",
      "Epoch 34/50\n",
      "156/156 [==============================] - 21s 132ms/step - loss: 0.1639 - accuracy: 0.9425 - val_loss: 0.2293 - val_accuracy: 0.9208\n",
      "WARNING:tensorflow:Early stopping conditioned on metric `val_acc` which is not available. Available metrics are: loss,accuracy,val_loss,val_accuracy\n",
      "Epoch 35/50\n",
      "156/156 [==============================] - 21s 133ms/step - loss: 0.1532 - accuracy: 0.9459 - val_loss: 0.2483 - val_accuracy: 0.9151\n",
      "WARNING:tensorflow:Early stopping conditioned on metric `val_acc` which is not available. Available metrics are: loss,accuracy,val_loss,val_accuracy\n",
      "Epoch 36/50\n",
      "156/156 [==============================] - 21s 131ms/step - loss: 0.1426 - accuracy: 0.9504 - val_loss: 0.4806 - val_accuracy: 0.8603\n",
      "WARNING:tensorflow:Early stopping conditioned on metric `val_acc` which is not available. Available metrics are: loss,accuracy,val_loss,val_accuracy\n",
      "Epoch 37/50\n",
      "156/156 [==============================] - 20s 131ms/step - loss: 0.1459 - accuracy: 0.9474 - val_loss: 0.1693 - val_accuracy: 0.9405\n",
      "WARNING:tensorflow:Early stopping conditioned on metric `val_acc` which is not available. Available metrics are: loss,accuracy,val_loss,val_accuracy\n",
      "Epoch 38/50\n",
      "156/156 [==============================] - 20s 131ms/step - loss: 0.1397 - accuracy: 0.9502 - val_loss: 0.1800 - val_accuracy: 0.9380\n",
      "WARNING:tensorflow:Early stopping conditioned on metric `val_acc` which is not available. Available metrics are: loss,accuracy,val_loss,val_accuracy\n",
      "Epoch 39/50\n",
      "156/156 [==============================] - 20s 131ms/step - loss: 0.1314 - accuracy: 0.9534 - val_loss: 0.1968 - val_accuracy: 0.9316\n",
      "WARNING:tensorflow:Early stopping conditioned on metric `val_acc` which is not available. Available metrics are: loss,accuracy,val_loss,val_accuracy\n",
      "Epoch 40/50\n",
      "156/156 [==============================] - 20s 130ms/step - loss: 0.1180 - accuracy: 0.9573 - val_loss: 0.2321 - val_accuracy: 0.9224\n",
      "WARNING:tensorflow:Early stopping conditioned on metric `val_acc` which is not available. Available metrics are: loss,accuracy,val_loss,val_accuracy\n",
      "Epoch 41/50\n",
      "156/156 [==============================] - 20s 130ms/step - loss: 0.1121 - accuracy: 0.9610 - val_loss: 0.2562 - val_accuracy: 0.9178\n",
      "WARNING:tensorflow:Early stopping conditioned on metric `val_acc` which is not available. Available metrics are: loss,accuracy,val_loss,val_accuracy\n",
      "Epoch 42/50\n",
      "156/156 [==============================] - 21s 131ms/step - loss: 0.1166 - accuracy: 0.9586 - val_loss: 0.1721 - val_accuracy: 0.9405\n",
      "WARNING:tensorflow:Early stopping conditioned on metric `val_acc` which is not available. Available metrics are: loss,accuracy,val_loss,val_accuracy\n",
      "Epoch 43/50\n",
      "156/156 [==============================] - 20s 130ms/step - loss: 0.1190 - accuracy: 0.9576 - val_loss: 0.1950 - val_accuracy: 0.9328\n",
      "WARNING:tensorflow:Early stopping conditioned on metric `val_acc` which is not available. Available metrics are: loss,accuracy,val_loss,val_accuracy\n",
      "Epoch 44/50\n",
      "156/156 [==============================] - 20s 129ms/step - loss: 0.1100 - accuracy: 0.9618 - val_loss: 0.2010 - val_accuracy: 0.9329\n",
      "WARNING:tensorflow:Early stopping conditioned on metric `val_acc` which is not available. Available metrics are: loss,accuracy,val_loss,val_accuracy\n",
      "Epoch 45/50\n",
      "156/156 [==============================] - 20s 131ms/step - loss: 0.1109 - accuracy: 0.9613 - val_loss: 0.2278 - val_accuracy: 0.9244\n",
      "WARNING:tensorflow:Early stopping conditioned on metric `val_acc` which is not available. Available metrics are: loss,accuracy,val_loss,val_accuracy\n",
      "Epoch 46/50\n",
      "156/156 [==============================] - 20s 131ms/step - loss: 0.1067 - accuracy: 0.9627 - val_loss: 0.3552 - val_accuracy: 0.8885\n",
      "WARNING:tensorflow:Early stopping conditioned on metric `val_acc` which is not available. Available metrics are: loss,accuracy,val_loss,val_accuracy\n",
      "Epoch 47/50\n",
      "156/156 [==============================] - 21s 132ms/step - loss: 0.1074 - accuracy: 0.9641 - val_loss: 0.1429 - val_accuracy: 0.9497\n",
      "WARNING:tensorflow:Early stopping conditioned on metric `val_acc` which is not available. Available metrics are: loss,accuracy,val_loss,val_accuracy\n",
      "Epoch 48/50\n",
      "156/156 [==============================] - 21s 131ms/step - loss: 0.0968 - accuracy: 0.9666 - val_loss: 0.2006 - val_accuracy: 0.9335\n",
      "WARNING:tensorflow:Early stopping conditioned on metric `val_acc` which is not available. Available metrics are: loss,accuracy,val_loss,val_accuracy\n",
      "Epoch 49/50\n",
      "156/156 [==============================] - 20s 131ms/step - loss: 0.0918 - accuracy: 0.9676 - val_loss: 0.1437 - val_accuracy: 0.9499\n",
      "WARNING:tensorflow:Early stopping conditioned on metric `val_acc` which is not available. Available metrics are: loss,accuracy,val_loss,val_accuracy\n",
      "Epoch 50/50\n",
      "156/156 [==============================] - 21s 131ms/step - loss: 0.0962 - accuracy: 0.9661 - val_loss: 0.1564 - val_accuracy: 0.9466\n",
      "WARNING:tensorflow:Early stopping conditioned on metric `val_acc` which is not available. Available metrics are: loss,accuracy,val_loss,val_accuracy\n"
     ]
    }
   ],
   "source": [
    "from keras.callbacks import EarlyStopping\n",
    "\n",
    "es = EarlyStopping(patience= 8, restore_best_weights=True, monitor=\"val_acc\")\n",
    "#I did not use cross validation, so the validate performance is not accurate.\n",
    "STEPS = len(X_train) / 256\n",
    "history = model.fit(aug.flow(X_train,Y_train,batch_size = 256), steps_per_epoch=STEPS, batch_size = 256, epochs=50, validation_data=(X_train, Y_train),callbacks=[es])\n",
    "\n"
   ]
  },
  {
   "cell_type": "markdown",
   "metadata": {
    "id": "-5mMOa6uXJC3"
   },
   "source": [
    "## train curve"
   ]
  },
  {
   "cell_type": "code",
   "execution_count": 11,
   "metadata": {
    "colab": {
     "base_uri": "https://localhost:8080/",
     "height": 367
    },
    "executionInfo": {
     "elapsed": 1036438,
     "status": "ok",
     "timestamp": 1615452948887,
     "user": {
      "displayName": "Ngoc Phan",
      "photoUrl": "",
      "userId": "09481603094395391329"
     },
     "user_tz": 360
    },
    "id": "irRhiwjlXJC4",
    "outputId": "fee189e3-ead7-47a4-c51e-60ddd48add98"
   },
   "outputs": [
    {
     "name": "stdout",
     "output_type": "stream",
     "text": [
      "dict_keys(['loss', 'accuracy', 'val_loss', 'val_accuracy'])\n"
     ]
    },
    {
     "data": {
      "image/png": "[encoded data removed]",
      "text/plain": [
       "<Figure size 1080x360 with 2 Axes>"
      ]
     },
     "metadata": {
      "needs_background": "light",
      "tags": []
     },
     "output_type": "display_data"
    }
   ],
   "source": [
    "\n",
    "def plotmodelhistory(history): \n",
    "    fig, axs = plt.subplots(1,2,figsize=(15,5)) \n",
    "    # summarize history for accuracy\n",
    "    axs[0].plot(history.history['accuracy']) \n",
    "    axs[0].plot(history.history['val_accuracy']) \n",
    "    axs[0].set_title('Model Accuracy')\n",
    "    axs[0].set_ylabel('Accuracy') \n",
    "    axs[0].set_xlabel('Epoch')\n",
    "    \n",
    "    axs[0].legend(['train', 'validate'], loc='upper left')\n",
    "    # summarize history for loss\n",
    "    axs[1].plot(history.history['loss']) \n",
    "    axs[1].plot(history.history['val_loss']) \n",
    "    axs[1].set_title('Model Loss')\n",
    "    axs[1].set_ylabel('Loss') \n",
    "    axs[1].set_xlabel('Epoch')\n",
    "    axs[1].legend(['train', 'validate'], loc='upper left')\n",
    "    plt.show()\n",
    "\n",
    "# list all data in history\n",
    "print(history.history.keys())\n",
    "plotmodelhistory(history)\n"
   ]
  },
  {
   "cell_type": "markdown",
   "metadata": {
    "id": "Br2YQ8KeXJC4"
   },
   "source": [
    "##  Evaluation"
   ]
  },
  {
   "cell_type": "code",
   "execution_count": 12,
   "metadata": {
    "colab": {
     "base_uri": "https://localhost:8080/"
    },
    "executionInfo": {
     "elapsed": 1045789,
     "status": "ok",
     "timestamp": 1615452958247,
     "user": {
      "displayName": "Ngoc Phan",
      "photoUrl": "",
      "userId": "09481603094395391329"
     },
     "user_tz": 360
    },
    "id": "xh2FVHClXJC4",
    "outputId": "5c288cf1-a496-4ea1-ae6e-05ae1ae3739c"
   },
   "outputs": [
    {
     "name": "stdout",
     "output_type": "stream",
     "text": [
      "1250/1250 [==============================] - 9s 7ms/step - loss: 0.1564 - accuracy: 0.9466\n",
      "Model Loss is 0.15642131865024567\n",
      "Model Accuracy is 0.9466249942779541\n"
     ]
    }
   ],
   "source": [
    "## Evaluation\n",
    "\n",
    "ModelLoss, ModelAccuracy = model.evaluate(X_train, Y_train)\n",
    "\n",
    "print('Model Loss is {}'.format(ModelLoss))\n",
    "print('Model Accuracy is {}'.format(ModelAccuracy))"
   ]
  },
  {
   "cell_type": "code",
   "execution_count": 13,
   "metadata": {
    "colab": {
     "base_uri": "https://localhost:8080/"
    },
    "executionInfo": {
     "elapsed": 1048324,
     "status": "ok",
     "timestamp": 1615452960789,
     "user": {
      "displayName": "Ngoc Phan",
      "photoUrl": "",
      "userId": "09481603094395391329"
     },
     "user_tz": 360
    },
    "id": "JftkVzlaWi4A",
    "outputId": "32c55050-6723-4737-cb98-23dd922b32d8"
   },
   "outputs": [
    {
     "name": "stdout",
     "output_type": "stream",
     "text": [
      "313/313 [==============================] - 2s 8ms/step - loss: 1.1289 - accuracy: 0.7561\n",
      "Model Loss is 1.128940224647522\n",
      "Model Accuracy is 0.7560999989509583\n"
     ]
    }
   ],
   "source": [
    "ModelLoss, ModelAccuracy = model.evaluate(X_test, Y_test)\n",
    "\n",
    "print('Model Loss is {}'.format(ModelLoss))\n",
    "print('Model Accuracy is {}'.format(ModelAccuracy))"
   ]
  },
  {
   "cell_type": "markdown",
   "metadata": {
    "id": "ALcAEVAmWS2C"
   },
   "source": [
    "# Save Model's Weights"
   ]
  },
  {
   "cell_type": "code",
   "execution_count": 15,
   "metadata": {
    "executionInfo": {
     "elapsed": 1048632,
     "status": "ok",
     "timestamp": 1615452961111,
     "user": {
      "displayName": "Ngoc Phan",
      "photoUrl": "",
      "userId": "09481603094395391329"
     },
     "user_tz": 360
    },
    "id": "XDxuezHu2w7x"
   },
   "outputs": [],
   "source": [
    "# save model's weights\n",
    "model.save_weights('drive/MyDrive/app/resnet_18.h5')"
   ]
  }
 ],
 "metadata": {
  "accelerator": "GPU",
  "colab": {
   "collapsed_sections": [],
   "name": "resnet_18.ipynb",
   "provenance": [],
   "toc_visible": true
  },
  "kernelspec": {
   "display_name": "Python 3",
   "language": "python",
   "name": "python3"
  },
  "language_info": {
   "codemirror_mode": {
    "name": "ipython",
    "version": 3
   },
   "file_extension": ".py",
   "mimetype": "text/x-python",
   "name": "python",
   "nbconvert_exporter": "python",
   "pygments_lexer": "ipython3",
   "version": "3.8.3"
  }
 },
 "nbformat": 4,
 "nbformat_minor": 1
}
