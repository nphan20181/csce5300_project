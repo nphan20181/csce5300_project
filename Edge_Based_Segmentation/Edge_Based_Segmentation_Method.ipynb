{
 "cells": [
  {
   "cell_type": "code",
   "execution_count": 152,
   "metadata": {},
   "outputs": [],
   "source": [
    "import matplotlib\n",
    "import matplotlib.pyplot as plt\n",
    "import numpy as np\n",
    "import cv2 ,os\n",
    "from math import ceil\n",
    "import pickle\n",
    "import time\n",
    "from skimage import io, feature\n",
    "from skimage.color import rgb2gray\n",
    "\n",
    "def get_images_names(path):\n",
    "    files_name = os.listdir( path )\n",
    "    files_name.sort()\n",
    "    return files_name\n",
    "\n",
    "def read_imges(path,images_name):\n",
    "    images=[]\n",
    "    for image in images_name:\n",
    "        img = cv2.imread(path+image,0)\n",
    "        if img is not None:\n",
    "            scale_percent = 50\n",
    "            width = int(img.shape[1] * scale_percent / 100)\n",
    "            height = int(img.shape[0] * scale_percent / 100)\n",
    "            dim = (width, height)\n",
    "            img = cv2.GaussianBlur(img, (3, 3), 0)          \n",
    "            img = cv2.resize(img, dim)\n",
    "            images.append(img)   \n",
    "        else:\n",
    "            print('Can not read image files!',path+image)\n",
    "    return images\n",
    "\n",
    "def segment_image(image):\n",
    "    canny_img = cv2.Canny(image,100,200)\n",
    "    return canny_img\n",
    "\n",
    "def get_foreground(segmented_image):\n",
    "    foreground_pixels = []\n",
    "    foreground_value = 0\n",
    "    for y in range(segmented_image.shape[0]):\n",
    "        for x in range(segmented_image.shape[1]):\n",
    "            if segmented_image[y, x] == foreground_value:\n",
    "                foreground_pixels.append((x, y)) # add it to my list of (x, y) coordinate pairs\n",
    "    return foreground_pixels\n",
    "\n",
    "def save_fg(images):\n",
    "    with open('Edge_fg_pixels.pkl', 'wb') as f:\n",
    "        pickle.dump(images, f)\n",
    "    \n",
    "def load_fg():\n",
    "    with open('Edge_fg_pixels.pkl', 'rb') as f:\n",
    "        loaded_fg = pickle.load(f)\n",
    "    return loaded_fg"
   ]
  },
  {
   "cell_type": "code",
   "execution_count": 153,
   "metadata": {},
   "outputs": [
    {
     "name": "stdout",
     "output_type": "stream",
     "text": [
      "--- execution time 1.7857320308685303 seconds ---\n"
     ]
    }
   ],
   "source": [
    "path='data/test/'\n",
    "#get all images name\n",
    "start_time = time.time()\n",
    "\n",
    "images_name = get_images_names(path)\n",
    "images = read_imges(path,images_name)\n",
    "\n",
    "print(\"--- execution time %s seconds ---\" % (time.time() - start_time))"
   ]
  },
  {
   "cell_type": "code",
   "execution_count": 154,
   "metadata": {},
   "outputs": [
    {
     "name": "stdout",
     "output_type": "stream",
     "text": [
      "--- execution time: 0.24721527099609375 seconds ---\n"
     ]
    }
   ],
   "source": [
    "seg_img=[]\n",
    "start_time = time.time()\n",
    "\n",
    "for img in images:\n",
    "    seg_img.append(segment_image(img))\n",
    "    \n",
    "print(\"--- execution time: %s seconds ---\" % (time.time() - start_time))"
   ]
  },
  {
   "cell_type": "code",
   "execution_count": 155,
   "metadata": {},
   "outputs": [
    {
     "name": "stdout",
     "output_type": "stream",
     "text": [
      "--- execution time 81.15313935279846 seconds ---\n"
     ]
    }
   ],
   "source": [
    "fg=[]\n",
    "start_time = time.time()\n",
    "\n",
    "for img in seg_img:\n",
    "    fg.append(get_foreground(img))\n",
    "print(\"--- execution time %s seconds ---\" % (time.time() - start_time))"
   ]
  },
  {
   "cell_type": "code",
   "execution_count": 156,
   "metadata": {},
   "outputs": [
    {
     "name": "stdout",
     "output_type": "stream",
     "text": [
      "<class 'list'>\n",
      "1108\n"
     ]
    }
   ],
   "source": [
    "print(type(fg))\n",
    "print(len(fg))"
   ]
  },
  {
   "cell_type": "code",
   "execution_count": 157,
   "metadata": {},
   "outputs": [
    {
     "data": {
      "text/plain": [
       "<matplotlib.image.AxesImage at 0x1721c031970>"
      ]
     },
     "execution_count": 157,
     "metadata": {},
     "output_type": "execute_result"
    },
    {
     "data": {
      "image/png": "[encoded data removed]",
      "text/plain": [
       "<Figure size 432x288 with 1 Axes>"
      ]
     },
     "metadata": {
      "needs_background": "light"
     },
     "output_type": "display_data"
    }
   ],
   "source": [
    "plt.imshow(seg_img[990],'gray')"
   ]
  },
  {
   "cell_type": "code",
   "execution_count": 158,
   "metadata": {},
   "outputs": [
    {
     "name": "stdout",
     "output_type": "stream",
     "text": [
      "--- execution time 12.165162563323975 seconds ---\n"
     ]
    }
   ],
   "source": [
    "start_time = time.time()\n",
    "save_fg(fg)\n",
    "print(\"--- execution time %s seconds ---\" % (time.time() - start_time))"
   ]
  },
  {
   "cell_type": "code",
   "execution_count": null,
   "metadata": {},
   "outputs": [],
   "source": []
  }
 ],
 "metadata": {
  "kernelspec": {
   "display_name": "Python 3",
   "language": "python",
   "name": "python3"
  },
  "language_info": {
   "codemirror_mode": {
    "name": "ipython",
    "version": 3
   },
   "file_extension": ".py",
   "mimetype": "text/x-python",
   "name": "python",
   "nbconvert_exporter": "python",
   "pygments_lexer": "ipython3",
   "version": "3.8.5"
  }
 },
 "nbformat": 4,
 "nbformat_minor": 4
}
