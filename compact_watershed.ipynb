{
 "cells": [
  {
   "cell_type": "markdown",
   "id": "close-vision",
   "metadata": {},
   "source": [
    "# Image Segmentation using Compact Watershed Method\n",
    "\n",
    "Produce segmented images on original dataset."
   ]
  },
  {
   "cell_type": "code",
   "execution_count": 1,
   "id": "defined-ranking",
   "metadata": {},
   "outputs": [],
   "source": [
    "from skimage.io import imread\n",
    "from skimage.segmentation import watershed, mark_boundaries\n",
    "from skimage.transform import resize\n",
    "from skimage.color import rgb2gray\n",
    "from skimage.filters import sobel\n",
    "from PIL import Image\n",
    "import matplotlib.pyplot as plt\n",
    "import keras"
   ]
  },
  {
   "cell_type": "code",
   "execution_count": 2,
   "id": "handled-floor",
   "metadata": {},
   "outputs": [],
   "source": [
    "def plot_image(img, title):\n",
    "    plt.imshow(img), plt.title(title, size=20),  plt.axis('off') "
   ]
  },
  {
   "cell_type": "code",
   "execution_count": 3,
   "id": "thousand-jonathan",
   "metadata": {},
   "outputs": [],
   "source": [
    "def compact_watershed(image_bytes):\n",
    "    img = imread(image_bytes)\n",
    "    #im = img.resize((32,32))\n",
    "    #im = resize(img, (img.shape[0] // 4, img.shape[1] // 4), anti_aliasing=True)\n",
    "    \n",
    "    gradient = sobel(rgb2gray(img))\n",
    "    segments_watershed = watershed(gradient, markers=15, compactness=0.00001)\n",
    "    im = mark_boundaries(img, segments_watershed)\n",
    "    #plot_image(im, '')\n",
    "    return im"
   ]
  },
  {
   "cell_type": "code",
   "execution_count": 4,
   "id": "considerable-reference",
   "metadata": {
    "scrolled": true
   },
   "outputs": [],
   "source": [
    "import numpy as np\n",
    "import pandas as pd\n",
    "from zipfile import ZipFile\n",
    "\n",
    "label_dict = {'airplane': 0, 'automobile': 1, 'bird': 2, 'cat': 3, \n",
    "              'deer': 4, 'dog': 5, 'frog': 6, 'horse': 7, 'ship': 8, 'truck': 9}\n",
    "\n",
    "n_train = 50000, n_test = 10000\n",
    "X_train = [[]]*n_train, Y_train = [[]]*n_train\n",
    "X_test = [[]]*n_test, Y_test = [[]]*n_test\n",
    "train_index = 0, test_index = 0\n",
    "\n",
    "# open zip file for reading\n",
    "with ZipFile('cfar-10.zip', 'r') as zip_data:\n",
    "    content_list = zip_data.namelist()\n",
    "    \n",
    "    # read all images in the zip file and produce segmented images\n",
    "    for file_path in content_list:\n",
    "        path = file_path.split('/')\n",
    "        label = label_dict.get(path[-2])\n",
    "        img_bytes = zip_data.open(file_path)\n",
    "        \n",
    "        # apply 'compact watershed' segmentation\n",
    "        img_ary = compact_watershed(img_bytes)\n",
    "        \n",
    "        if path[-3] == 'train':\n",
    "            X_train[train_index] = img_ary\n",
    "            Y_train[train_index] = label\n",
    "            Y_train_list.append(label)\n",
    "            train_index += 1\n",
    "        else:\n",
    "            X_test[test_index] = img_ary\n",
    "            Y_test[test_index] = label\n",
    "            Y_test_list.append(label)\n",
    "            test_index += 1"
   ]
  },
  {
   "cell_type": "code",
   "execution_count": 5,
   "id": "final-twenty",
   "metadata": {},
   "outputs": [],
   "source": [
    "# RGB values are between 0 and 255\n",
    "# normalize RGB values to the scale between 0 and 1\n",
    "X_train = np.asarray(X_train, dtype='float32')/255\n",
    "X_test = np.asarray(X_test, dtype='float32')/255"
   ]
  },
  {
   "cell_type": "code",
   "execution_count": 6,
   "id": "analyzed-phoenix",
   "metadata": {},
   "outputs": [],
   "source": [
    "Y_train = np.asarray(Y_train).reshape(-1,1)\n",
    "Y_test = np.asarray(Y_test).reshape(-1,1)"
   ]
  },
  {
   "cell_type": "code",
   "execution_count": 7,
   "id": "raised-intelligence",
   "metadata": {},
   "outputs": [],
   "source": [
    "# save np arry\n",
    "np.save('data/X_train_cw.npy', X_train)\n",
    "np.save('data/Y_train_cw.npy', Y_train)\n",
    "np.save('data/X_test_cw.npy', X_test)\n",
    "np.save('data/Y_test_cw.npy', Y_test)"
   ]
  }
 ],
 "metadata": {
  "kernelspec": {
   "display_name": "Python 3",
   "language": "python",
   "name": "python3"
  },
  "language_info": {
   "codemirror_mode": {
    "name": "ipython",
    "version": 3
   },
   "file_extension": ".py",
   "mimetype": "text/x-python",
   "name": "python",
   "nbconvert_exporter": "python",
   "pygments_lexer": "ipython3",
   "version": "3.8.8"
  }
 },
 "nbformat": 4,
 "nbformat_minor": 5
}
